{
 "cells": [
  {
   "cell_type": "code",
   "execution_count": 16,
   "id": "becf4773-27c4-48cb-8830-feefcf53b9de",
   "metadata": {},
   "outputs": [],
   "source": [
    "from spotipy.oauth2 import SpotifyClientCredentials\n",
    "import spotipy\n",
    "import pandas as pd\n",
    "import matplotlib.pyplot as plt\n",
    "import re\n",
    "import mysql.connector"
   ]
  },
  {
   "cell_type": "code",
   "execution_count": 17,
   "id": "f8fe2c3b-02d6-42ba-99f4-fe2099bfaba8",
   "metadata": {},
   "outputs": [],
   "source": [
    "# Set Up Client Credentials\n",
    "\n",
    "sp = spotipy.Spotify(auth_manager=SpotifyClientCredentials(\n",
    "    client_id='541318d201544530a1fa9ac238bd0978',\n",
    "    client_secret='44fb7acba3a4478a90fc0ae3e1a696ec'))"
   ]
  },
  {
   "cell_type": "code",
   "execution_count": 18,
   "id": "916bf448-399e-4214-b5be-57dd1abba504",
   "metadata": {},
   "outputs": [],
   "source": [
    "#My Sql Database Connection\n",
    "\n",
    "db_config = { \n",
    "    'host': '127.0.0.1',\n",
    "    'user': 'root',\n",
    "    'password': 'Root',\n",
    "    'database': 'spotify_db'}"
   ]
  },
  {
   "cell_type": "code",
   "execution_count": 19,
   "id": "d12f664b-824d-4177-88df-b337c7f60645",
   "metadata": {},
   "outputs": [],
   "source": [
    "#Connect to the database\n",
    "\n",
    "connection = mysql.connector.connect(**db_config)\n",
    "cursor = connection.cursor()"
   ]
  },
  {
   "cell_type": "code",
   "execution_count": 20,
   "id": "50bd1e61-88f5-4716-9325-34912122ee3f",
   "metadata": {},
   "outputs": [],
   "source": [
    "# Read Track URLs from file\n",
    "\n",
    "file_path = \"E:\\Data_Analytics_training\\Portfolio\\Portfolio_Projects\\Spotify_tracks.txt\"\n",
    "with open(file_path, 'r') as file:\n",
    "    track_urls = file.readlines()"
   ]
  },
  {
   "cell_type": "code",
   "execution_count": 21,
   "id": "54c64c0d-a001-4cdd-8049-a19e16b446d0",
   "metadata": {},
   "outputs": [
    {
     "name": "stdout",
     "output_type": "stream",
     "text": [
      "Inserted: Mr. Brightside by The Killers\n",
      "Inserted: Time is Running Out by Muse\n",
      "Inserted: Uprising by Muse\n",
      "Inserted: Despacito by Luis Fonsi\n",
      "Inserted: Mr. Brightside by The Killers\n",
      "Inserted: Lover by Taylor Swift\n",
      "Inserted: Shape of You by Ed Sheeran\n",
      "Inserted: Every Breath You Take by The Police\n",
      "Inserted: Prelude for Piano No. 11 in F-Sharp Minor by Eduard Abramyan\n"
     ]
    }
   ],
   "source": [
    "# Process each URL\n",
    "for track_url in track_urls:\n",
    "    track_url = track_url.strip()  # Remove any leading/trailing whitespace\n",
    "    try:\n",
    "        # Extract track ID from URL\n",
    "        track_id = re.search(r'track/([a-zA-Z0-9]+)', track_url).group(1)\n",
    "\n",
    "        # Fetch track details from Spotify API\n",
    "        track = sp.track(track_id)\n",
    "\n",
    "        # Extract metadata\n",
    "        track_data = {\n",
    "            'Track Name': track['name'],\n",
    "            'Artist': track['artists'][0]['name'],\n",
    "            'Album': track['album']['name'],\n",
    "            'Popularity': track['popularity'],\n",
    "            'Duration (minutes)': track['duration_ms'] / 60000\n",
    "        }\n",
    "\n",
    "        # Insert data into MySQL\n",
    "        insert_query = \"\"\"\n",
    "        INSERT INTO spotify_tracks (track_name, artist, album, popularity, duration_minutes)\n",
    "        VALUES (%s, %s, %s, %s, %s)\n",
    "        \"\"\"\n",
    "        cursor.execute(insert_query, (\n",
    "            track_data['Track Name'],\n",
    "            track_data['Artist'],\n",
    "            track_data['Album'],\n",
    "            track_data['Popularity'],\n",
    "            track_data['Duration (minutes)']\n",
    "        ))\n",
    "        connection.commit()\n",
    "\n",
    "        print(f\"Inserted: {track_data['Track Name']} by {track_data['Artist']}\")\n",
    "\n",
    "    except Exception as e:\n",
    "        print(f\"Error processing URL: {track_url}, Error: {e}\")"
   ]
  },
  {
   "cell_type": "code",
   "execution_count": 22,
   "id": "bdbb5e56-5cc1-4250-974a-42356a68a207",
   "metadata": {},
   "outputs": [],
   "source": [
    "# Close the connection\n",
    "cursor.close()\n",
    "connection.close()"
   ]
  },
  {
   "cell_type": "code",
   "execution_count": 23,
   "id": "dc2e947b-80f9-433f-b3e9-4e2889c1b693",
   "metadata": {},
   "outputs": [
    {
     "name": "stdout",
     "output_type": "stream",
     "text": [
      "All tracks have been processed and inserted into the database.\n"
     ]
    }
   ],
   "source": [
    "print(\"All tracks have been processed and inserted into the database.\")"
   ]
  },
  {
   "cell_type": "code",
   "execution_count": null,
   "id": "3544b9d0-6730-43cf-8667-feb8086a29f2",
   "metadata": {},
   "outputs": [],
   "source": []
  },
  {
   "cell_type": "code",
   "execution_count": null,
   "id": "0591bbd1-e707-4fcc-b2ea-6149362c3258",
   "metadata": {},
   "outputs": [],
   "source": []
  }
 ],
 "metadata": {
  "kernelspec": {
   "display_name": "Python 3 (ipykernel)",
   "language": "python",
   "name": "python3"
  },
  "language_info": {
   "codemirror_mode": {
    "name": "ipython",
    "version": 3
   },
   "file_extension": ".py",
   "mimetype": "text/x-python",
   "name": "python",
   "nbconvert_exporter": "python",
   "pygments_lexer": "ipython3",
   "version": "3.10.11"
  }
 },
 "nbformat": 4,
 "nbformat_minor": 5
}
